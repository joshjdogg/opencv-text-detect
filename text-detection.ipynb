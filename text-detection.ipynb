{
 "cells": [
  {
   "cell_type": "code",
   "execution_count": 1,
   "metadata": {},
   "outputs": [],
   "source": [
    "# import the necessary packages\n",
    "from imutils.object_detection import non_max_suppression\n",
    "from matplotlib import pyplot as plt\n",
    "import numpy as np\n",
    "import argparse\n",
    "import time\n",
    "import cv2"
   ]
  },
  {
   "cell_type": "code",
   "execution_count": 2,
   "metadata": {},
   "outputs": [
    {
     "data": {
      "text/plain": [
       "{'image': 'images/page3-120s.png',\n",
       " 'east': 'frozen_east_text_detection.pb',\n",
       " 'min_confidence': 0.8,\n",
       " 'width': 1600,\n",
       " 'height': 1600}"
      ]
     },
     "execution_count": 2,
     "metadata": {},
     "output_type": "execute_result"
    }
   ],
   "source": [
    "# construct the argument parser and parse the arguments\n",
    "ap = argparse.ArgumentParser()\n",
    "ap.add_argument(\"-i\", \"--image\", type=str,\n",
    "\thelp=\"path to input image\", default='images/page3-120s.png')\n",
    "ap.add_argument(\"-east\", \"--east\", type=str,\n",
    "\thelp=\"path to input EAST text detector\", default='frozen_east_text_detection.pb')\n",
    "ap.add_argument(\"-c\", \"--min-confidence\", type=float, default=0.8,\n",
    "\thelp=\"minimum probability required to inspect a region\")\n",
    "ap.add_argument(\"-w\", \"--width\", type=int, default=1600,\n",
    "\thelp=\"resized image width (should be multiple of 32)\")\n",
    "ap.add_argument(\"-e\", \"--height\", type=int, default=1600,\n",
    "\thelp=\"resized image height (should be multiple of 32)\")\n",
    "ap\n",
    "args, unknown = ap.parse_known_args()\n",
    "#args = vars(ap.parse_args())\n",
    "args = vars(args)\n",
    "args"
   ]
  },
  {
   "cell_type": "code",
   "execution_count": 3,
   "metadata": {},
   "outputs": [
    {
     "data": {
      "text/plain": [
       "(2200, 1700)"
      ]
     },
     "execution_count": 3,
     "metadata": {},
     "output_type": "execute_result"
    }
   ],
   "source": [
    "# load the input image and grab the image dimensions\n",
    "image = cv2.imread(args[\"image\"])\n",
    "orig = image.copy()\n",
    "(H, W) = image.shape[:2]\n",
    "\n",
    "(H, W)"
   ]
  },
  {
   "cell_type": "code",
   "execution_count": 4,
   "metadata": {},
   "outputs": [],
   "source": [
    "# set the new width and height and then determine the ratio in change\n",
    "# for both the width and height\n",
    "(newW, newH) = (args[\"width\"], args[\"height\"])\n",
    "rW = W / float(newW)\n",
    "rH = H / float(newH)"
   ]
  },
  {
   "cell_type": "code",
   "execution_count": 5,
   "metadata": {},
   "outputs": [
    {
     "data": {
      "text/plain": [
       "(1600, 1600)"
      ]
     },
     "execution_count": 5,
     "metadata": {},
     "output_type": "execute_result"
    }
   ],
   "source": [
    "# resize the image and grab the new image dimensions\n",
    "image = cv2.resize(image, (newW, newH))\n",
    "(H, W) = image.shape[:2]\n",
    "(H, W)"
   ]
  },
  {
   "cell_type": "code",
   "execution_count": 6,
   "metadata": {},
   "outputs": [],
   "source": [
    "# define the two output layer names for the EAST detector model that\n",
    "# we are interested -- the first is the output probabilities and the\n",
    "# second can be used to derive the bounding box coordinates of text\n",
    "layerNames = [\n",
    "\t\"feature_fusion/Conv_7/Sigmoid\",\n",
    "\t\"feature_fusion/concat_3\"]"
   ]
  },
  {
   "cell_type": "code",
   "execution_count": 7,
   "metadata": {},
   "outputs": [
    {
     "name": "stdout",
     "output_type": "stream",
     "text": [
      "[INFO] loading EAST text detector...\n"
     ]
    }
   ],
   "source": [
    "# load the pre-trained EAST text detector\n",
    "print(\"[INFO] loading EAST text detector...\")\n",
    "net = cv2.dnn.readNet(args[\"east\"])"
   ]
  },
  {
   "cell_type": "code",
   "execution_count": 8,
   "metadata": {},
   "outputs": [
    {
     "name": "stdout",
     "output_type": "stream",
     "text": [
      "[INFO] text detection took 25.759748 seconds\n"
     ]
    },
    {
     "data": {
      "text/plain": [
       "(array([[[[2.8448309e-07, 1.3735039e-06, 9.3358716e-07, ...,\n",
       "           1.2348416e-06, 2.2094670e-07, 1.9597428e-06],\n",
       "          [1.7966454e-06, 1.1973417e-06, 9.1207193e-07, ...,\n",
       "           1.4750954e-06, 1.2054358e-07, 1.3632207e-06],\n",
       "          [1.5951438e-06, 8.9822879e-07, 8.1203336e-07, ...,\n",
       "           9.9591205e-07, 4.8218240e-08, 1.9974977e-06],\n",
       "          ...,\n",
       "          [3.2209896e-06, 5.2078207e-07, 5.2869927e-07, ...,\n",
       "           5.4060303e-07, 8.7019004e-08, 3.7295333e-06],\n",
       "          [1.1092066e-06, 7.8786451e-07, 7.4858690e-07, ...,\n",
       "           1.6275005e-06, 9.6107431e-07, 4.5167490e-06],\n",
       "          [1.4297525e-06, 1.8047700e-07, 1.5952533e-07, ...,\n",
       "           3.0637167e-07, 8.9106564e-08, 2.6818489e-07]]]], dtype=float32),\n",
       " array([[[[ 1.59544113e+02,  1.26238297e+02,  1.31515198e+02, ...,\n",
       "            1.32120239e+02,  1.23778465e+02,  1.57003021e+02],\n",
       "          [ 1.28443680e+02,  7.16234283e+01,  7.46543732e+01, ...,\n",
       "            7.65483322e+01,  7.52470551e+01,  1.13497871e+02],\n",
       "          [ 1.33838074e+02,  7.65928268e+01,  7.96016541e+01, ...,\n",
       "            8.24390488e+01,  8.23388214e+01,  1.21452919e+02],\n",
       "          ...,\n",
       "          [ 1.37369934e+02,  8.30073242e+01,  9.20236130e+01, ...,\n",
       "            8.92459488e+01,  8.82439728e+01,  1.24631622e+02],\n",
       "          [ 1.33974716e+02,  8.11704559e+01,  9.42303238e+01, ...,\n",
       "            9.15301285e+01,  8.62868423e+01,  1.16450775e+02],\n",
       "          [ 1.73408218e+02,  1.29225098e+02,  1.45384781e+02, ...,\n",
       "            1.35049194e+02,  1.27296944e+02,  1.49222504e+02]],\n",
       " \n",
       "         [[ 1.13193672e+02,  8.79247360e+01,  8.49491425e+01, ...,\n",
       "            9.46539841e+01,  9.05660019e+01,  1.16503326e+02],\n",
       "          [ 8.53017502e+01,  4.83149261e+01,  4.64272003e+01, ...,\n",
       "            5.43426361e+01,  5.30989037e+01,  8.62385330e+01],\n",
       "          [ 8.72567215e+01,  4.76709557e+01,  4.53019295e+01, ...,\n",
       "            5.59592323e+01,  5.33595505e+01,  8.89197998e+01],\n",
       "          ...,\n",
       "          [ 9.88530579e+01,  6.52628174e+01,  6.55781021e+01, ...,\n",
       "            7.43674088e+01,  7.05429230e+01,  1.03000443e+02],\n",
       "          [ 1.04252678e+02,  7.05094452e+01,  7.32489014e+01, ...,\n",
       "            8.29356155e+01,  7.59852219e+01,  1.05211250e+02],\n",
       "          [ 1.21018974e+02,  1.03667747e+02,  1.08373932e+02, ...,\n",
       "            1.14762085e+02,  1.11405914e+02,  1.25284866e+02]],\n",
       " \n",
       "         [[ 9.60024948e+01,  8.34986420e+01,  8.32111511e+01, ...,\n",
       "            8.89816360e+01,  8.66380997e+01,  1.08688644e+02],\n",
       "          [ 8.51917496e+01,  4.75774994e+01,  4.35776596e+01, ...,\n",
       "            5.15649796e+01,  5.11534004e+01,  9.09060669e+01],\n",
       "          [ 8.32024231e+01,  4.64141808e+01,  4.20271301e+01, ...,\n",
       "            5.20858917e+01,  5.10421448e+01,  9.15437241e+01],\n",
       "          ...,\n",
       "          [ 9.64816971e+01,  6.15215797e+01,  6.55299454e+01, ...,\n",
       "            7.49914551e+01,  7.49206696e+01,  1.08645012e+02],\n",
       "          [ 9.38554840e+01,  6.15999794e+01,  6.55063400e+01, ...,\n",
       "            7.20307312e+01,  6.95119858e+01,  9.89071655e+01],\n",
       "          [ 1.21973175e+02,  1.24670547e+02,  1.24076302e+02, ...,\n",
       "            1.31421509e+02,  1.28379776e+02,  1.48164154e+02]],\n",
       " \n",
       "         [[ 1.35803833e+02,  1.14583260e+02,  1.01883430e+02, ...,\n",
       "            1.14617073e+02,  1.19012932e+02,  1.50661270e+02],\n",
       "          [ 8.97519073e+01,  6.00059471e+01,  4.90285835e+01, ...,\n",
       "            6.34376793e+01,  6.66551361e+01,  1.12173828e+02],\n",
       "          [ 8.54071274e+01,  5.50205116e+01,  4.38010788e+01, ...,\n",
       "            6.09315338e+01,  6.38492165e+01,  1.09584595e+02],\n",
       "          ...,\n",
       "          [ 1.02472824e+02,  8.04588776e+01,  7.61110382e+01, ...,\n",
       "            8.73166809e+01,  8.71800461e+01,  1.45903229e+02],\n",
       "          [ 1.07610886e+02,  8.06486511e+01,  7.70438995e+01, ...,\n",
       "            9.06162109e+01,  8.82240906e+01,  1.40776077e+02],\n",
       "          [ 1.49931335e+02,  1.13533440e+02,  1.02346848e+02, ...,\n",
       "            1.22881020e+02,  1.22867714e+02,  1.74148605e+02]],\n",
       " \n",
       "         [[-3.25148888e-02,  1.59274098e-02,  1.40874572e-02, ...,\n",
       "            1.69412009e-02,  2.31575500e-02,  4.37491648e-02],\n",
       "          [-1.66717432e-02, -1.95136887e-03,  1.25291329e-02, ...,\n",
       "            1.00166593e-02,  2.08322350e-02,  2.27943715e-03],\n",
       "          [-6.12211321e-03,  7.11422926e-03,  1.72895864e-02, ...,\n",
       "            1.84932519e-02,  2.89309490e-02,  5.02223289e-03],\n",
       "          ...,\n",
       "          [-2.05173213e-02,  2.34450772e-02,  6.96826540e-03, ...,\n",
       "            4.23574969e-02,  5.28706573e-02,  1.60749648e-02],\n",
       "          [-3.01640611e-02,  2.52900850e-02,  4.13034437e-03, ...,\n",
       "            4.05032188e-02,  4.72411588e-02,  2.68916655e-02],\n",
       "          [-4.02550586e-02, -6.15059920e-02, -4.01478559e-02, ...,\n",
       "           -4.39811721e-02, -4.39385697e-02, -2.62561738e-02]]]],\n",
       "       dtype=float32))"
      ]
     },
     "execution_count": 8,
     "metadata": {},
     "output_type": "execute_result"
    }
   ],
   "source": [
    "# construct a blob from the image and then perform a forward pass of\n",
    "# the model to obtain the two output layer sets\n",
    "blob = cv2.dnn.blobFromImage(image, 1.0, (W, H),\n",
    "\t(123.68, 116.78, 103.94), swapRB=True, crop=False)\n",
    "start = time.time()\n",
    "net.setInput(blob)\n",
    "(scores, geometry) = net.forward(layerNames)\n",
    "end = time.time()\n",
    "# show timing information on text prediction\n",
    "print(\"[INFO] text detection took {:.6f} seconds\".format(end - start))\n",
    "(scores,geometry)"
   ]
  },
  {
   "cell_type": "code",
   "execution_count": 9,
   "metadata": {},
   "outputs": [],
   "source": [
    "# grab the number of rows and columns from the scores volume, then\n",
    "# initialize our set of bounding box rectangles and corresponding\n",
    "# confidence scores\n",
    "(numRows, numCols) = scores.shape[2:4]\n",
    "rects = []\n",
    "confidences = []"
   ]
  },
  {
   "cell_type": "code",
   "execution_count": 10,
   "metadata": {},
   "outputs": [],
   "source": [
    "# loop over the number of rows\n",
    "for y in range(0, numRows):\n",
    "\t# extract the scores (probabilities), followed by the geometrical\n",
    "\t# data used to derive potential bounding box coordinates that\n",
    "\t# surround text\n",
    "\tscoresData = scores[0, 0, y]\n",
    "\txData0 = geometry[0, 0, y]\n",
    "\txData1 = geometry[0, 1, y]\n",
    "\txData2 = geometry[0, 2, y]\n",
    "\txData3 = geometry[0, 3, y]\n",
    "\tanglesData = geometry[0, 4, y]\n",
    "\n",
    "\t# loop over the number of columns\n",
    "\tfor x in range(0, numCols):\n",
    "\t\t# if our score does not have sufficient probability, ignore it\n",
    "\t\tif scoresData[x] < args[\"min_confidence\"]:\n",
    "\t\t\tcontinue\n",
    "\n",
    "\t\t# compute the offset factor as our resulting feature maps will\n",
    "\t\t# be 4x smaller than the input image\n",
    "\t\t(offsetX, offsetY) = (x * 4.0, y * 4.0)\n",
    "\n",
    "\t\t# extract the rotation angle for the prediction and then\n",
    "\t\t# compute the sin and cosine\n",
    "\t\tangle = anglesData[x]\n",
    "\t\tcos = np.cos(angle)\n",
    "\t\tsin = np.sin(angle)\n",
    "\n",
    "\t\t# use the geometry volume to derive the width and height of\n",
    "\t\t# the bounding box\n",
    "\t\th = xData0[x] + xData2[x]\n",
    "\t\tw = xData1[x] + xData3[x]\n",
    "        \n",
    "\n",
    "\t\t# A more accurate bounding box for rotated text\n",
    "\t\toffsetX = offsetX + cos * xData1[x] + sin * xData2[x]\n",
    "\t\toffsetY = offsetY - sin * xData1[x] + cos * xData2[x]\n",
    "\t\t# calculate the UL and LR corners of the bounding rectangle\n",
    "\t\tp1x = -cos * w + offsetX\n",
    "\t\tp1y = -cos * h + offsetY\n",
    "\t\tp3x = -sin * h + offsetX\n",
    "\t\tp3y = sin * w + offsetY\n",
    "\t\t# add the bounding box coordinates\n",
    "\t\trects.append((p1x, p1y, p3x, p3y))\n",
    "\t\tconfidences.append(scoresData[x])"
   ]
  },
  {
   "cell_type": "code",
   "execution_count": 11,
   "metadata": {},
   "outputs": [],
   "source": [
    "# apply non-maxima suppression to suppress weak, overlapping bounding\n",
    "# boxes\n",
    "boxes = non_max_suppression(np.array(rects), probs=confidences)"
   ]
  },
  {
   "cell_type": "code",
   "execution_count": 12,
   "metadata": {},
   "outputs": [],
   "source": [
    "# loop over the bounding boxes\n",
    "for (startX, startY, endX, endY) in boxes:\n",
    "\t# scale the bounding box coordinates based on the respective\n",
    "\t# ratios\n",
    "\tstartX = int(startX * rW)\n",
    "\tstartY = int(startY * rH)\n",
    "\tendX = int(endX * rW)\n",
    "\tendY = int(endY * rH)\n",
    "\n",
    "\t# draw the bounding box on the image\n",
    "\tcv2.rectangle(orig, (startX, startY), (endX, endY), (0, 255, 0), 2)"
   ]
  },
  {
   "cell_type": "code",
   "execution_count": 13,
   "metadata": {},
   "outputs": [
    {
     "data": {
      "image/png": "[encoded data removed]",
      "text/plain": [
       "<Figure size 432x288 with 1 Axes>"
      ]
     },
     "metadata": {
      "needs_background": "light"
     },
     "output_type": "display_data"
    }
   ],
   "source": [
    "# show the output image\n",
    "#cv2.imshow(\"Text Detection\", orig)\n",
    "#cv2.waitKey(0)\n",
    "#Matplot lib expects img in RGB format but OpenCV provides it in BGR.\n",
    "gray = cv2.cvtColor(orig, cv2.COLOR_BGR2RGB)\n",
    "cv2.imwrite('images/output/markup.jpg', orig)\n",
    "plt.imshow(gray)\n",
    "plt.title('Text Detection')\n",
    "plt.show()"
   ]
  },
  {
   "cell_type": "code",
   "execution_count": null,
   "metadata": {},
   "outputs": [],
   "source": []
  }
 ],
 "metadata": {
  "kernelspec": {
   "display_name": "Python 3",
   "language": "python",
   "name": "python3"
  },
  "language_info": {
   "codemirror_mode": {
    "name": "ipython",
    "version": 3
   },
   "file_extension": ".py",
   "mimetype": "text/x-python",
   "name": "python",
   "nbconvert_exporter": "python",
   "pygments_lexer": "ipython3",
   "version": "3.6.6"
  }
 },
 "nbformat": 4,
 "nbformat_minor": 2
}
